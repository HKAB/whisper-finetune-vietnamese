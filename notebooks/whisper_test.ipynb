{
 "cells": [
  {
   "cell_type": "code",
   "execution_count": 2,
   "metadata": {},
   "outputs": [
    {
     "name": "stdout",
     "output_type": "stream",
     "text": [
      "Collecting git+https://github.com/openai/whisper.git"
     ]
    },
    {
     "name": "stderr",
     "output_type": "stream",
     "text": [
      "  Running command git clone -q https://github.com/openai/whisper.git 'C:\\Users\\truongnp3\\AppData\\Local\\Temp\\pip-req-build-ewqgaect'\n"
     ]
    },
    {
     "name": "stdout",
     "output_type": "stream",
     "text": [
      "\n",
      "  Cloning https://github.com/openai/whisper.git to c:\\users\\truongnp3\\appdata\\local\\temp\\pip-req-build-ewqgaect\n",
      "  Resolved https://github.com/openai/whisper.git to commit 9e653bd0ea0f1e9493cb4939733e9de249493cfb\n",
      "Requirement already satisfied: numpy in c:\\users\\truongnp3\\anaconda3\\lib\\site-packages (from whisper==1.0) (1.21.6)\n",
      "Requirement already satisfied: torch in c:\\users\\truongnp3\\anaconda3\\lib\\site-packages (from whisper==1.0) (1.12.1)\n",
      "Requirement already satisfied: tqdm in c:\\users\\truongnp3\\anaconda3\\lib\\site-packages (from whisper==1.0) (4.64.0)\n",
      "Collecting more-itertools\n",
      "  Downloading more_itertools-8.14.0-py3-none-any.whl (52 kB)\n",
      "Collecting transformers>=4.19.0\n",
      "  Downloading transformers-4.22.2-py3-none-any.whl (4.9 MB)\n",
      "Collecting ffmpeg-python==0.2.0\n",
      "  Downloading ffmpeg_python-0.2.0-py3-none-any.whl (25 kB)\n",
      "Requirement already satisfied: future in c:\\users\\truongnp3\\anaconda3\\lib\\site-packages (from ffmpeg-python==0.2.0->whisper==1.0) (0.18.2)\n",
      "Requirement already satisfied: pyyaml>=5.1 in c:\\users\\truongnp3\\anaconda3\\lib\\site-packages (from transformers>=4.19.0->whisper==1.0) (6.0)\n",
      "Requirement already satisfied: filelock in c:\\users\\truongnp3\\anaconda3\\lib\\site-packages (from transformers>=4.19.0->whisper==1.0) (3.6.0)\n",
      "Requirement already satisfied: packaging>=20.0 in c:\\users\\truongnp3\\anaconda3\\lib\\site-packages (from transformers>=4.19.0->whisper==1.0) (21.3)\n",
      "Requirement already satisfied: regex!=2019.12.17 in c:\\users\\truongnp3\\anaconda3\\lib\\site-packages (from transformers>=4.19.0->whisper==1.0) (2022.3.15)\n",
      "Requirement already satisfied: requests in c:\\users\\truongnp3\\anaconda3\\lib\\site-packages (from transformers>=4.19.0->whisper==1.0) (2.25.1)\n",
      "Collecting tokenizers!=0.11.3,<0.13,>=0.11.1\n",
      "  Downloading tokenizers-0.12.1-cp39-cp39-win_amd64.whl (3.3 MB)\n",
      "Collecting huggingface-hub<1.0,>=0.9.0\n",
      "  Downloading huggingface_hub-0.10.0-py3-none-any.whl (163 kB)\n",
      "Requirement already satisfied: typing-extensions>=3.7.4.3 in c:\\users\\truongnp3\\anaconda3\\lib\\site-packages (from huggingface-hub<1.0,>=0.9.0->transformers>=4.19.0->whisper==1.0) (4.1.1)\n",
      "Requirement already satisfied: pyparsing!=3.0.5,>=2.0.2 in c:\\users\\truongnp3\\anaconda3\\lib\\site-packages (from packaging>=20.0->transformers>=4.19.0->whisper==1.0) (3.0.4)\n",
      "Requirement already satisfied: colorama in c:\\users\\truongnp3\\anaconda3\\lib\\site-packages (from tqdm->whisper==1.0) (0.4.4)\n",
      "Requirement already satisfied: idna<3,>=2.5 in c:\\users\\truongnp3\\anaconda3\\lib\\site-packages (from requests->transformers>=4.19.0->whisper==1.0) (2.10)\n",
      "Requirement already satisfied: chardet<5,>=3.0.2 in c:\\users\\truongnp3\\anaconda3\\lib\\site-packages (from requests->transformers>=4.19.0->whisper==1.0) (4.0.0)\n",
      "Requirement already satisfied: urllib3<1.27,>=1.21.1 in c:\\users\\truongnp3\\anaconda3\\lib\\site-packages (from requests->transformers>=4.19.0->whisper==1.0) (1.26.9)\n",
      "Requirement already satisfied: certifi>=2017.4.17 in c:\\users\\truongnp3\\anaconda3\\lib\\site-packages (from requests->transformers>=4.19.0->whisper==1.0) (2021.10.8)\n",
      "Building wheels for collected packages: whisper\n",
      "  Building wheel for whisper (setup.py): started\n",
      "  Building wheel for whisper (setup.py): finished with status 'done'\n",
      "  Created wheel for whisper: filename=whisper-1.0-py3-none-any.whl size=1186878 sha256=b52686cc98b570058c68c33a281f1c6de97574b0d3b53d83b50ef388fd97d7ee\n",
      "  Stored in directory: C:\\Users\\truongnp3\\AppData\\Local\\Temp\\pip-ephem-wheel-cache-4xrsr0fd\\wheels\\fe\\03\\29\\e7919208d11b4ab32972cb448bb84a9a675d92cd52c9a48341\n",
      "Successfully built whisper\n",
      "Installing collected packages: tokenizers, huggingface-hub, transformers, more-itertools, ffmpeg-python, whisper\n",
      "Successfully installed ffmpeg-python-0.2.0 huggingface-hub-0.10.0 more-itertools-8.14.0 tokenizers-0.12.1 transformers-4.22.2 whisper-1.0\n"
     ]
    }
   ],
   "source": [
    "# !pip install \"git+https://github.com/openai/whisper.git\""
   ]
  },
  {
   "cell_type": "code",
   "execution_count": 1,
   "metadata": {},
   "outputs": [],
   "source": [
    "import whisper"
   ]
  },
  {
   "cell_type": "code",
   "execution_count": 15,
   "metadata": {},
   "outputs": [
    {
     "name": "stderr",
     "output_type": "stream",
     "text": [
      "c:\\Users\\truongnp3\\Anaconda3\\lib\\site-packages\\whisper\\__init__.py:44: UserWarning: C:\\Users\\truongnp3\\.cache\\whisper\\medium.pt exists, but the SHA256 checksum does not match; re-downloading the file\n",
      "  warnings.warn(f\"{download_target} exists, but the SHA256 checksum does not match; re-downloading the file\")\n",
      "100%|█████████████████████████████████████| 1.42G/1.42G [14:52<00:00, 1.71MiB/s]\n"
     ]
    }
   ],
   "source": [
    "model = whisper.load_model(\"medium\")"
   ]
  },
  {
   "cell_type": "code",
   "execution_count": 3,
   "metadata": {},
   "outputs": [],
   "source": [
    "audio = whisper.load_audio(\"test_audio.aiff\")"
   ]
  },
  {
   "cell_type": "code",
   "execution_count": 4,
   "metadata": {},
   "outputs": [],
   "source": [
    "audio = whisper.pad_or_trim(audio)"
   ]
  },
  {
   "cell_type": "code",
   "execution_count": 5,
   "metadata": {},
   "outputs": [],
   "source": [
    "mel = whisper.log_mel_spectrogram(audio).to(model.device)"
   ]
  },
  {
   "cell_type": "code",
   "execution_count": 16,
   "metadata": {},
   "outputs": [
    {
     "name": "stdout",
     "output_type": "stream",
     "text": [
      "Detected language: vi\n"
     ]
    }
   ],
   "source": [
    "_, probs = model.detect_language(mel)\n",
    "print(f\"Detected language: {max(probs, key=probs.get)}\")"
   ]
  },
  {
   "cell_type": "code",
   "execution_count": 14,
   "metadata": {},
   "outputs": [
    {
     "name": "stdout",
     "output_type": "stream",
     "text": [
      "Xin chào các bạn và hẹn gặp lại trong ngày đầu suân. Thưa quý vị, chúng ta tiếp tục ôn lại giao lý. Có xin hát lại, chúng ta ôn lại vì giả thiết giảnh những điều mà chúng ta đã học, đang học, sắp học, và những điều mà chúng ta ít nhiều đã biết rồi. Bây giờ, chúng ta tiếp theo 2 câu về giáo mội.\n"
     ]
    }
   ],
   "source": [
    "# decode the audio\n",
    "options = whisper.DecodingOptions(fp16 = False)\n",
    "result = whisper.decode(model, mel, options)\n",
    "\n",
    "# print the recognized text\n",
    "print(result.text)"
   ]
  },
  {
   "cell_type": "code",
   "execution_count": 17,
   "metadata": {},
   "outputs": [
    {
     "name": "stdout",
     "output_type": "stream",
     "text": [
      "Chào mừng quý vị, thưa quý vị, quý vị, quý vị, quý vị, quý vị, quý vị, quý vị, quý vị, quý vị, quý vị, quý vị, quý vị, quý vị, quý vị, quý vị, quý vị, quý vị, quý vị, quý vị, quý vị, quý vị, quý vị, quý vị, quý vị, quý vị, quý vị, quý vị, quý vị, quý vị, quý vị, quý vị, quý vị, quý vị, quý vị, quý vị, quý vị, quý vị, quý vị, quý vị, quý vị, quý vị, quý vị, quý vị, quý vị, quý vị, quý vị, quý vị, quý vị, quý vị, quý vị, quý vị, quý vị, quý vị, qu\n"
     ]
    }
   ],
   "source": [
    "# decode the audio\n",
    "options = whisper.DecodingOptions(fp16 = False)\n",
    "result = whisper.decode(model, mel, options)\n",
    "\n",
    "# print the recognized text\n",
    "print(result.text)"
   ]
  },
  {
   "cell_type": "code",
   "execution_count": null,
   "metadata": {},
   "outputs": [],
   "source": []
  }
 ],
 "metadata": {
  "kernelspec": {
   "display_name": "Python 3.9.12 ('base')",
   "language": "python",
   "name": "python3"
  },
  "language_info": {
   "codemirror_mode": {
    "name": "ipython",
    "version": 3
   },
   "file_extension": ".py",
   "mimetype": "text/x-python",
   "name": "python",
   "nbconvert_exporter": "python",
   "pygments_lexer": "ipython3",
   "version": "3.9.12"
  },
  "orig_nbformat": 4,
  "vscode": {
   "interpreter": {
    "hash": "569cc53f83e70b41c2d959ffedb296ac14adb9e332ab59ae04a2c7a2935b0e00"
   }
  }
 },
 "nbformat": 4,
 "nbformat_minor": 2
}
